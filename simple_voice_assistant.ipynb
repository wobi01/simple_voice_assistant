{
 "cells": [
  {
   "cell_type": "code",
   "execution_count": 17,
   "id": "f072fcd8",
   "metadata": {},
   "outputs": [
    {
     "name": "stdout",
     "output_type": "stream",
     "text": [
      "Requirement already satisfied: SpeechRecognition in /Users/wobi/miniconda3/envs/tensorflow/lib/python3.10/site-packages (3.10.0)\n",
      "Requirement already satisfied: requests>=2.26.0 in /Users/wobi/miniconda3/envs/tensorflow/lib/python3.10/site-packages (from SpeechRecognition) (2.29.0)\n",
      "Requirement already satisfied: charset-normalizer<4,>=2 in /Users/wobi/miniconda3/envs/tensorflow/lib/python3.10/site-packages (from requests>=2.26.0->SpeechRecognition) (2.0.4)\n",
      "Requirement already satisfied: idna<4,>=2.5 in /Users/wobi/miniconda3/envs/tensorflow/lib/python3.10/site-packages (from requests>=2.26.0->SpeechRecognition) (3.4)\n",
      "Requirement already satisfied: urllib3<1.27,>=1.21.1 in /Users/wobi/miniconda3/envs/tensorflow/lib/python3.10/site-packages (from requests>=2.26.0->SpeechRecognition) (1.26.15)\n",
      "Requirement already satisfied: certifi>=2017.4.17 in /Users/wobi/miniconda3/envs/tensorflow/lib/python3.10/site-packages (from requests>=2.26.0->SpeechRecognition) (2023.5.7)\n",
      "Requirement already satisfied: sounddevice in /Users/wobi/miniconda3/envs/tensorflow/lib/python3.10/site-packages (0.4.6)\n",
      "Requirement already satisfied: CFFI>=1.0 in /Users/wobi/miniconda3/envs/tensorflow/lib/python3.10/site-packages (from sounddevice) (1.15.1)\n",
      "Requirement already satisfied: pycparser in /Users/wobi/miniconda3/envs/tensorflow/lib/python3.10/site-packages (from CFFI>=1.0->sounddevice) (2.21)\n",
      "Requirement already satisfied: pocketsphinx in /Users/wobi/miniconda3/envs/tensorflow/lib/python3.10/site-packages (5.0.1)\n",
      "Requirement already satisfied: sounddevice in /Users/wobi/miniconda3/envs/tensorflow/lib/python3.10/site-packages (from pocketsphinx) (0.4.6)\n",
      "Requirement already satisfied: CFFI>=1.0 in /Users/wobi/miniconda3/envs/tensorflow/lib/python3.10/site-packages (from sounddevice->pocketsphinx) (1.15.1)\n",
      "Requirement already satisfied: pycparser in /Users/wobi/miniconda3/envs/tensorflow/lib/python3.10/site-packages (from CFFI>=1.0->sounddevice->pocketsphinx) (2.21)\n",
      "Requirement already satisfied: speake3 in /Users/wobi/miniconda3/envs/tensorflow/lib/python3.10/site-packages (0.3)\n",
      "Requirement already satisfied: bingpython in /Users/wobi/miniconda3/envs/tensorflow/lib/python3.10/site-packages (0.0.20)\n",
      "Requirement already satisfied: asyncio in /Users/wobi/miniconda3/envs/tensorflow/lib/python3.10/site-packages (from bingpython) (3.4.3)\n",
      "Requirement already satisfied: requests in /Users/wobi/miniconda3/envs/tensorflow/lib/python3.10/site-packages (from bingpython) (2.29.0)\n",
      "Requirement already satisfied: websockets in /Users/wobi/miniconda3/envs/tensorflow/lib/python3.10/site-packages (from bingpython) (11.0.3)\n",
      "Requirement already satisfied: rich in /Users/wobi/miniconda3/envs/tensorflow/lib/python3.10/site-packages (from bingpython) (13.3.5)\n",
      "Requirement already satisfied: certifi in /Users/wobi/miniconda3/envs/tensorflow/lib/python3.10/site-packages (from bingpython) (2023.5.7)\n",
      "Requirement already satisfied: uuid in /Users/wobi/miniconda3/envs/tensorflow/lib/python3.10/site-packages (from bingpython) (1.30)\n",
      "Requirement already satisfied: charset-normalizer<4,>=2 in /Users/wobi/miniconda3/envs/tensorflow/lib/python3.10/site-packages (from requests->bingpython) (2.0.4)\n",
      "Requirement already satisfied: idna<4,>=2.5 in /Users/wobi/miniconda3/envs/tensorflow/lib/python3.10/site-packages (from requests->bingpython) (3.4)\n",
      "Requirement already satisfied: urllib3<1.27,>=1.21.1 in /Users/wobi/miniconda3/envs/tensorflow/lib/python3.10/site-packages (from requests->bingpython) (1.26.15)\n",
      "Requirement already satisfied: markdown-it-py<3.0.0,>=2.2.0 in /Users/wobi/miniconda3/envs/tensorflow/lib/python3.10/site-packages (from rich->bingpython) (2.2.0)\n",
      "Requirement already satisfied: pygments<3.0.0,>=2.13.0 in /Users/wobi/miniconda3/envs/tensorflow/lib/python3.10/site-packages (from rich->bingpython) (2.15.1)\n",
      "Requirement already satisfied: mdurl~=0.1 in /Users/wobi/miniconda3/envs/tensorflow/lib/python3.10/site-packages (from markdown-it-py<3.0.0,>=2.2.0->rich->bingpython) (0.1.2)\n"
     ]
    }
   ],
   "source": [
    "#Simple Voice Assistant\n",
    "#Wojciech Biskup\n",
    "\n",
    "\n",
    "! pip install SpeechRecognition\n",
    "! pip install sounddevice \n",
    "! pip install pocketsphinx\n",
    "! pip install speake3\n",
    "! pip install bingpython\n",
    "\n",
    "\n",
    "# install also sound/recording libraries\n",
    "# sudo apt-get install libportaudio2\n",
    "# sudo apt-get install libasound-dev\n",
    "# sudo apt-get install espeak\n",
    "# for macOS with ARM chips use appkit library"
   ]
  },
  {
   "cell_type": "code",
   "execution_count": 18,
   "id": "61c3e8e9",
   "metadata": {},
   "outputs": [],
   "source": [
    "#Choose operating system:\n",
    "#For windows change \"OS_TYPE\" to 0 if MacOS switch to 1\n",
    "OS_TYPE = 1"
   ]
  },
  {
   "cell_type": "code",
   "execution_count": 36,
   "id": "87487d35",
   "metadata": {},
   "outputs": [],
   "source": [
    "#all needed library\n",
    "import speech_recognition as sr\n",
    "import sounddevice as sd\n",
    "import soundfile as sf\n",
    "import numpy as np\n",
    "import scipy.io.wavfile as wav\n",
    "import speake3\n",
    "import re\n",
    "import time\n",
    "if OS_TYPE == 1:\n",
    "    from AppKit import NSSpeechSynthesizer"
   ]
  },
  {
   "cell_type": "code",
   "execution_count": 20,
   "id": "2f49ebab",
   "metadata": {},
   "outputs": [],
   "source": [
    "#mathhh\n",
    "def convert_string(expression):\n",
    "    pattern = r'(\\d+)\\s+(plus|minus|times|divided by)\\s+(\\d+)'\n",
    "    converted_expression = re.sub(pattern, r'\\1 \\2 \\3', expression)\n",
    "\n",
    "    # Replace words with corresponding symbols\n",
    "    converted_expression = converted_expression.replace('plus', '+')\n",
    "    converted_expression = converted_expression.replace('minus', '-')\n",
    "    converted_expression = converted_expression.replace('times', '*')\n",
    "    converted_expression = converted_expression.replace('divided by', '/')\n",
    "    return converted_expression\n",
    "\n",
    "def calculate_expression(expression):\n",
    "    try:\n",
    "        result = eval(expression)\n",
    "        return result\n",
    "    except:\n",
    "        return \"Error: Invalid expression\""
   ]
  },
  {
   "cell_type": "code",
   "execution_count": 21,
   "id": "d50b6127",
   "metadata": {},
   "outputs": [],
   "source": [
    "#Possible actions for voice assistant\n",
    "if OS_TYPE == 1:\n",
    "    def readText(phrase):\n",
    "        speechSynthesizer = NSSpeechSynthesizer.alloc().init()\n",
    "        speechSynthesizer.startSpeakingString_(phrase)\n",
    "elif OS_TYPE == 0:\n",
    "    def readText(phrase):\n",
    "        engine = speake3.Speake()\n",
    "        engine.set('voice', 'en')\n",
    "        engine.set('speed', '104')\n",
    "        engine.set('pitch', '99')\n",
    "        engine.say(phrase)\n",
    "        engine.talkback()\n",
    "    \n",
    "def welcome():\n",
    "    welcome = \"Good morning Human!\"\n",
    "    readText(welcome)\n",
    "    \n",
    "def goodbye():\n",
    "    goodbye = \"Have a nice day!\"\n",
    "    readText(goodbye)\n",
    "    \n",
    "def calculate(phrase):\n",
    "    string = convert_string(phrase)\n",
    "    calculate = calculate_expression(string)\n",
    "    response = \"The \" + str(string) + \" equals to \" + str(calculate)\n",
    "    print(response)\n",
    "    readText(response)\n",
    "    \n",
    "def tags():\n",
    "    #code...\n",
    "    print('Hi')\n",
    "    \n",
    "def askgpt(question):\n",
    "    response = openai.Completion.create(\n",
    "        engine='davinci',\n",
    "        prompt=question,\n",
    "        max_tokens=100,\n",
    "        temperature=0.7,\n",
    "        n=1,\n",
    "        stop=None,\n",
    "        timeout=10,\n",
    "    )\n",
    "    answer = response.choices[0].text.strip()\n",
    "    readText(answer)"
   ]
  },
  {
   "cell_type": "code",
   "execution_count": 65,
   "id": "ca283919",
   "metadata": {},
   "outputs": [],
   "source": [
    "#User input\n",
    "def UserInput(time):\n",
    "    fs=44100\n",
    "    duration = time  # seconds\n",
    "    myrecording = sd.rec(duration * fs, samplerate=fs, channels=1,dtype='float64')\n",
    "    print(\"Recording Audio, please tell me your choice\")\n",
    "    sd.wait()\n",
    "    print(\"Audio recording complete\")\n",
    "    sd.wait()\n",
    "    filename = 'recording.wav'\n",
    "    sf.write(filename, myrecording, fs)\n",
    "    r = sr.Recognizer()\n",
    "    with sr.AudioFile(filename) as source:\n",
    "        audio = r.record(source)\n",
    "    recognizedText =  r.recognize_google(audio)\n",
    "    recognizedTextAsString = str(recognizedText)\n",
    "    print(\"User: \"+recognizedTextAsString)\n",
    "    return recognizedTextAsString"
   ]
  },
  {
   "cell_type": "code",
   "execution_count": 66,
   "id": "9c94621f",
   "metadata": {},
   "outputs": [
    {
     "name": "stdout",
     "output_type": "stream",
     "text": [
      "Recording Audio, please tell me your choice\n",
      "Audio recording complete\n",
      "User: 1\n",
      "Recording Audio, please tell me your choice\n",
      "Audio recording complete\n",
      "User: 5 + 5 * 6\n",
      "The 5 + 5 * 6 equals to 35\n"
     ]
    }
   ],
   "source": [
    "#Initialize simple voice assistant\n",
    "flag = True\n",
    "#Welcome\n",
    "welcome = \"Hello, I'm an simple voice assistant. You can ask me following things: 1 - calculate something 2 - read tags with trained model or 3 - Ask question online. Please tell me number of action that you are intrested in, if you want me to repeat possible actions say 4\"\n",
    "welcome2 = \"You can ask me following things: 1 - calculate something 2 - read tags with trained model or 3 - Ask question online. Please tell me number of action that you are intrested in, if you want me to repeat possible actions say 4\"\n",
    "readText(welcome)\n",
    "time.sleep(18)\n",
    "#User choice\n",
    "user_choice = UserInput(5)\n",
    "while flag is True:\n",
    "    if user_choice == \"4\":\n",
    "        readText(welcome2)\n",
    "        time.sleep(15)\n",
    "        user_choice = UserInput()\n",
    "        flag = True\n",
    "    else:\n",
    "        flag = False\n",
    "if user_choice == \"1\":\n",
    "    calculate_info = \"Please tell me equation to calculate, you can use following operations: addition, subtraction, multiplication and division\"\n",
    "    readText(calculate_info)\n",
    "    time.sleep(9)\n",
    "    equation = UserInput(10)\n",
    "    calculate(equation)"
   ]
  },
  {
   "cell_type": "code",
   "execution_count": null,
   "id": "49de7cf2",
   "metadata": {},
   "outputs": [],
   "source": []
  }
 ],
 "metadata": {
  "kernelspec": {
   "display_name": "Python 3.10 (tensorflow)",
   "language": "python",
   "name": "tensorflow"
  },
  "language_info": {
   "codemirror_mode": {
    "name": "ipython",
    "version": 3
   },
   "file_extension": ".py",
   "mimetype": "text/x-python",
   "name": "python",
   "nbconvert_exporter": "python",
   "pygments_lexer": "ipython3",
   "version": "3.10.11"
  }
 },
 "nbformat": 4,
 "nbformat_minor": 5
}
